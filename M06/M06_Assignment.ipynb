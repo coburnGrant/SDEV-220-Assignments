{
 "cells": [
  {
   "cell_type": "markdown",
   "id": "35784b14",
   "metadata": {},
   "source": [
    "13.1"
   ]
  },
  {
   "cell_type": "code",
   "execution_count": 1,
   "id": "ea9daf91",
   "metadata": {},
   "outputs": [],
   "source": [
    "from datetime import datetime\n",
    "\n",
    "with open(\"today.txt\", \"w\") as file:\n",
    "    now = datetime.now()\n",
    "    \n",
    "    file.write(f\"{now}\")"
   ]
  },
  {
   "cell_type": "markdown",
   "id": "adc8beb8",
   "metadata": {},
   "source": [
    "13.2"
   ]
  },
  {
   "cell_type": "code",
   "execution_count": 2,
   "id": "c2375801",
   "metadata": {},
   "outputs": [
    {
     "name": "stdout",
     "output_type": "stream",
     "text": [
      "2025-04-27 17:09:18.834669\n"
     ]
    }
   ],
   "source": [
    "file = open(\"today.txt\", \"r\")\n",
    "today_string = file.readline()\n",
    "print(today_string)\n",
    "file.close()"
   ]
  },
  {
   "cell_type": "markdown",
   "id": "286c4d2a",
   "metadata": {},
   "source": [
    "13.3"
   ]
  },
  {
   "cell_type": "code",
   "execution_count": 3,
   "id": "ec19ba57",
   "metadata": {},
   "outputs": [
    {
     "name": "stdout",
     "output_type": "stream",
     "text": [
      "2025-04-27 17:09:18.834669\n"
     ]
    }
   ],
   "source": [
    "todays_date = datetime.strptime(today_string, \"%Y-%m-%d %H:%M:%S.%f\")\n",
    "print(todays_date)"
   ]
  },
  {
   "cell_type": "markdown",
   "id": "38b69c0e",
   "metadata": {},
   "source": [
    "15.1"
   ]
  },
  {
   "cell_type": "markdown",
   "id": "05e11bac",
   "metadata": {},
   "source": [
    "Using multiprocessing within this Jupiter notebook does not work on my machine. I have created a separate python script outside of this notebook for this exercise.\n",
    "\n",
    "See ./15_1.py in M06 Folder\n",
    "\n",
    "GitHub link to file: https://github.com/coburnGrant/SDEV-220-Assignments/blob/main/M06/15_1.py\n",
    "\n",
    "Output from script:\n",
    "```\n",
    "Starting processes...\n",
    "[process 2] Current time: 2025-04-27 15:53:26.487460\n",
    "[process 0] Current time: 2025-04-27 15:53:26.901243\n",
    "[process 1] Current time: 2025-04-27 15:53:27.153204\n",
    "All processes have finished.\n",
    "```"
   ]
  },
  {
   "cell_type": "markdown",
   "id": "7059dd24",
   "metadata": {},
   "source": []
  }
 ],
 "metadata": {
  "kernelspec": {
   "display_name": ".venv",
   "language": "python",
   "name": "python3"
  },
  "language_info": {
   "codemirror_mode": {
    "name": "ipython",
    "version": 3
   },
   "file_extension": ".py",
   "mimetype": "text/x-python",
   "name": "python",
   "nbconvert_exporter": "python",
   "pygments_lexer": "ipython3",
   "version": "3.13.2"
  }
 },
 "nbformat": 4,
 "nbformat_minor": 5
}
