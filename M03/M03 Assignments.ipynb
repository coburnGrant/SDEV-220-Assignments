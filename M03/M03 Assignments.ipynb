{
 "cells": [
  {
   "cell_type": "markdown",
   "id": "6da79c72-5a5f-4b76-adc4-61e81aa32579",
   "metadata": {},
   "source": [
    "7.4"
   ]
  },
  {
   "cell_type": "code",
   "execution_count": 2,
   "id": "69d84805-44c2-46a3-9c6a-41cccf90c05d",
   "metadata": {},
   "outputs": [],
   "source": [
    "things = ['mozzarella', 'cinderella', 'salmonella']"
   ]
  },
  {
   "cell_type": "markdown",
   "id": "a3da3dff-56c5-4f75-be27-f38b491f7ccb",
   "metadata": {},
   "source": [
    "7.5"
   ]
  },
  {
   "cell_type": "code",
   "execution_count": 4,
   "id": "f187b31b-68f0-447a-9de4-6bdfd0122765",
   "metadata": {},
   "outputs": [
    {
     "name": "stdout",
     "output_type": "stream",
     "text": [
      "['mozzarella', 'cinderella', 'salmonella']\n"
     ]
    }
   ],
   "source": [
    "things[1].capitalize()\n",
    "print(things)"
   ]
  },
  {
   "cell_type": "markdown",
   "id": "75798af1-d95e-4687-b86a-67d575eb9a55",
   "metadata": {},
   "source": [
    "The list did not change"
   ]
  },
  {
   "cell_type": "markdown",
   "id": "a9a75a87-bd3f-4c53-adfc-9bb5208ba6ac",
   "metadata": {},
   "source": [
    "7.6"
   ]
  },
  {
   "cell_type": "code",
   "execution_count": 7,
   "id": "dda84738-da66-4206-914d-9be41a459c2a",
   "metadata": {},
   "outputs": [
    {
     "name": "stdout",
     "output_type": "stream",
     "text": [
      "['mozzarella', 'cinderella', 'salmonella']\n"
     ]
    }
   ],
   "source": [
    "things[0].upper()\n",
    "print(things)"
   ]
  },
  {
   "cell_type": "markdown",
   "id": "665ae608-8d3d-4af2-8d0c-797625350c42",
   "metadata": {},
   "source": [
    "7.7"
   ]
  },
  {
   "cell_type": "code",
   "execution_count": 9,
   "id": "c4ecf6ee-8560-47df-aaba-e6c135f14ef3",
   "metadata": {},
   "outputs": [
    {
     "name": "stdout",
     "output_type": "stream",
     "text": [
      "['mozzarella', 'cinderella']\n"
     ]
    }
   ],
   "source": [
    "disease = things.pop()\n",
    "print(things)"
   ]
  },
  {
   "cell_type": "markdown",
   "id": "9bfaf9d3-de21-499d-9c8c-c0fa6b3ba270",
   "metadata": {},
   "source": [
    "9.1"
   ]
  },
  {
   "cell_type": "code",
   "execution_count": 11,
   "id": "93cc1220-841e-428e-a1ac-b88d78f0d9b5",
   "metadata": {},
   "outputs": [],
   "source": [
    "def good():\n",
    "    return ['Harry', 'Ron', 'Hermonie']"
   ]
  },
  {
   "cell_type": "markdown",
   "id": "84d77da8-6fd1-4a43-99b0-29cb882b46f7",
   "metadata": {},
   "source": [
    "9.2"
   ]
  },
  {
   "cell_type": "code",
   "execution_count": 13,
   "id": "e8543dae-dd4e-4c0b-a96a-cc059fd52f63",
   "metadata": {},
   "outputs": [
    {
     "name": "stdout",
     "output_type": "stream",
     "text": [
      "5\n"
     ]
    }
   ],
   "source": [
    "def get_odds():\n",
    "    for i in range(10):\n",
    "        if i % 2 != 0:\n",
    "            yield i\n",
    "\n",
    "count = 0\n",
    "for i in get_odds():\n",
    "    count += 1\n",
    "    if count == 3:\n",
    "        print(i)"
   ]
  },
  {
   "cell_type": "code",
   "execution_count": null,
   "id": "9c672fe5-b8ec-48ae-805d-8f13cad1b2df",
   "metadata": {},
   "outputs": [],
   "source": []
  }
 ],
 "metadata": {
  "kernelspec": {
   "display_name": "Python [conda env:base] *",
   "language": "python",
   "name": "conda-base-py"
  },
  "language_info": {
   "codemirror_mode": {
    "name": "ipython",
    "version": 3
   },
   "file_extension": ".py",
   "mimetype": "text/x-python",
   "name": "python",
   "nbconvert_exporter": "python",
   "pygments_lexer": "ipython3",
   "version": "3.12.7"
  }
 },
 "nbformat": 4,
 "nbformat_minor": 5
}
