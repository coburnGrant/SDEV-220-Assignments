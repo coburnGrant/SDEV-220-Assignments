{
 "cells": [
  {
   "cell_type": "code",
   "execution_count": null,
   "id": "207c0abb-1819-49f5-9551-b784e97022c6",
   "metadata": {
    "scrolled": true
   },
   "outputs": [],
   "source": [
    "60 * 60"
   ]
  },
  {
   "cell_type": "code",
   "execution_count": 45,
   "id": "2f36c68c-32b8-480b-8412-d3fac779d475",
   "metadata": {},
   "outputs": [],
   "source": [
    "seconds_per_hour = 3600"
   ]
  },
  {
   "cell_type": "code",
   "execution_count": 47,
   "id": "99637900-6f2b-4bba-8d1a-5f2edd514185",
   "metadata": {},
   "outputs": [],
   "source": [
    "seconds_per_day = seconds_per_hour * 24"
   ]
  },
  {
   "cell_type": "code",
   "execution_count": 58,
   "id": "a8106eb6-8ef0-4a03-aa9e-38f9bd8f00d9",
   "metadata": {},
   "outputs": [
    {
     "data": {
      "text/plain": [
       "24.0"
      ]
     },
     "execution_count": 58,
     "metadata": {},
     "output_type": "execute_result"
    }
   ],
   "source": [
    "seconds_per_day / seconds_per_hour"
   ]
  },
  {
   "cell_type": "code",
   "execution_count": 56,
   "id": "f9c01276-b68b-46c0-b710-19407a17c24f",
   "metadata": {},
   "outputs": [
    {
     "data": {
      "text/plain": [
       "24"
      ]
     },
     "execution_count": 56,
     "metadata": {},
     "output_type": "execute_result"
    }
   ],
   "source": [
    "seconds_per_day // seconds_per_hour"
   ]
  },
  {
   "cell_type": "markdown",
   "id": "7a2f34b2-a670-48cc-b11c-758a1ffa5b41",
   "metadata": {},
   "source": [
    "The result using the floating point division operator (/) and the integer division operator (//) is the same aside from the .0"
   ]
  }
 ],
 "metadata": {
  "kernelspec": {
   "display_name": "Python [conda env:base] *",
   "language": "python",
   "name": "conda-base-py"
  },
  "language_info": {
   "codemirror_mode": {
    "name": "ipython",
    "version": 3
   },
   "file_extension": ".py",
   "mimetype": "text/x-python",
   "name": "python",
   "nbconvert_exporter": "python",
   "pygments_lexer": "ipython3",
   "version": "3.12.7"
  }
 },
 "nbformat": 4,
 "nbformat_minor": 5
}
